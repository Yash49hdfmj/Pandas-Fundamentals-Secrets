{
 "cells": [
  {
   "cell_type": "markdown",
   "id": "ce864d64",
   "metadata": {},
   "source": [
    "## 1. pandas backbone are 2 objects"
   ]
  },
  {
   "cell_type": "code",
   "execution_count": 1,
   "id": "8ce8d9a8",
   "metadata": {},
   "outputs": [],
   "source": [
    "# one is dataframe and another is series object"
   ]
  },
  {
   "cell_type": "code",
   "execution_count": 2,
   "id": "2f8fb414",
   "metadata": {},
   "outputs": [],
   "source": [
    "import pandas as pd "
   ]
  },
  {
   "cell_type": "code",
   "execution_count": 25,
   "id": "de4a8b83",
   "metadata": {},
   "outputs": [],
   "source": [
    "villages = pd.DataFrame(columns=[\"village_name\",\"village_population\",\"taluka\"],data=[[\"gonavadi\",300,\"ambegaon\"],[\"savargaon\",250,\"junnar\"],[\"katraj\",1035,\"pimpri chinchwad\"]])"
   ]
  },
  {
   "cell_type": "code",
   "execution_count": 26,
   "id": "93e44cb0",
   "metadata": {},
   "outputs": [
    {
     "data": {
      "text/html": [
       "<div>\n",
       "<style scoped>\n",
       "    .dataframe tbody tr th:only-of-type {\n",
       "        vertical-align: middle;\n",
       "    }\n",
       "\n",
       "    .dataframe tbody tr th {\n",
       "        vertical-align: top;\n",
       "    }\n",
       "\n",
       "    .dataframe thead th {\n",
       "        text-align: right;\n",
       "    }\n",
       "</style>\n",
       "<table border=\"1\" class=\"dataframe\">\n",
       "  <thead>\n",
       "    <tr style=\"text-align: right;\">\n",
       "      <th></th>\n",
       "      <th>village_name</th>\n",
       "      <th>village_population</th>\n",
       "      <th>taluka</th>\n",
       "    </tr>\n",
       "  </thead>\n",
       "  <tbody>\n",
       "    <tr>\n",
       "      <th>0</th>\n",
       "      <td>gonavadi</td>\n",
       "      <td>300</td>\n",
       "      <td>ambegaon</td>\n",
       "    </tr>\n",
       "    <tr>\n",
       "      <th>1</th>\n",
       "      <td>savargaon</td>\n",
       "      <td>250</td>\n",
       "      <td>junnar</td>\n",
       "    </tr>\n",
       "    <tr>\n",
       "      <th>2</th>\n",
       "      <td>katraj</td>\n",
       "      <td>1035</td>\n",
       "      <td>pimpri chinchwad</td>\n",
       "    </tr>\n",
       "  </tbody>\n",
       "</table>\n",
       "</div>"
      ],
      "text/plain": [
       "  village_name  village_population            taluka\n",
       "0     gonavadi                 300          ambegaon\n",
       "1    savargaon                 250            junnar\n",
       "2       katraj                1035  pimpri chinchwad"
      ]
     },
     "execution_count": 26,
     "metadata": {},
     "output_type": "execute_result"
    }
   ],
   "source": [
    "villages"
   ]
  },
  {
   "cell_type": "code",
   "execution_count": 27,
   "id": "5f810042",
   "metadata": {},
   "outputs": [
    {
     "data": {
      "text/plain": [
       "pandas.core.frame.DataFrame"
      ]
     },
     "execution_count": 27,
     "metadata": {},
     "output_type": "execute_result"
    }
   ],
   "source": [
    "# type of dataframe\n",
    "type(villages)"
   ]
  },
  {
   "cell_type": "code",
   "execution_count": 28,
   "id": "7925e1af",
   "metadata": {},
   "outputs": [
    {
     "data": {
      "text/plain": [
       "pandas.core.series.Series"
      ]
     },
     "execution_count": 28,
     "metadata": {},
     "output_type": "execute_result"
    }
   ],
   "source": [
    "# type of series i.e. columns\n",
    "type(villages['taluka'])"
   ]
  },
  {
   "cell_type": "code",
   "execution_count": 29,
   "id": "4c9808eb",
   "metadata": {},
   "outputs": [
    {
     "data": {
      "text/html": [
       "<div>\n",
       "<style scoped>\n",
       "    .dataframe tbody tr th:only-of-type {\n",
       "        vertical-align: middle;\n",
       "    }\n",
       "\n",
       "    .dataframe tbody tr th {\n",
       "        vertical-align: top;\n",
       "    }\n",
       "\n",
       "    .dataframe thead th {\n",
       "        text-align: right;\n",
       "    }\n",
       "</style>\n",
       "<table border=\"1\" class=\"dataframe\">\n",
       "  <thead>\n",
       "    <tr style=\"text-align: right;\">\n",
       "      <th></th>\n",
       "      <th>village_name</th>\n",
       "      <th>village_population</th>\n",
       "      <th>taluka</th>\n",
       "    </tr>\n",
       "  </thead>\n",
       "  <tbody>\n",
       "    <tr>\n",
       "      <th>0</th>\n",
       "      <td>gonavadi</td>\n",
       "      <td>300</td>\n",
       "      <td>ambegaon</td>\n",
       "    </tr>\n",
       "    <tr>\n",
       "      <th>1</th>\n",
       "      <td>savargaon</td>\n",
       "      <td>250</td>\n",
       "      <td>junnar</td>\n",
       "    </tr>\n",
       "    <tr>\n",
       "      <th>2</th>\n",
       "      <td>katraj</td>\n",
       "      <td>1035</td>\n",
       "      <td>pimpri chinchwad</td>\n",
       "    </tr>\n",
       "  </tbody>\n",
       "</table>\n",
       "</div>"
      ],
      "text/plain": [
       "  village_name  village_population            taluka\n",
       "0     gonavadi                 300          ambegaon\n",
       "1    savargaon                 250            junnar\n",
       "2       katraj                1035  pimpri chinchwad"
      ]
     },
     "execution_count": 29,
     "metadata": {},
     "output_type": "execute_result"
    }
   ],
   "source": [
    "villages.drop_duplicates()"
   ]
  },
  {
   "cell_type": "code",
   "execution_count": 30,
   "id": "79cb8ec9",
   "metadata": {},
   "outputs": [],
   "source": [
    "#villages['village_population'].drop_duplicates()"
   ]
  },
  {
   "cell_type": "markdown",
   "id": "a82e8081",
   "metadata": {},
   "source": [
    "## 2. Indexes "
   ]
  },
  {
   "cell_type": "code",
   "execution_count": 31,
   "id": "0e43b19f",
   "metadata": {},
   "outputs": [
    {
     "data": {
      "text/html": [
       "<div>\n",
       "<style scoped>\n",
       "    .dataframe tbody tr th:only-of-type {\n",
       "        vertical-align: middle;\n",
       "    }\n",
       "\n",
       "    .dataframe tbody tr th {\n",
       "        vertical-align: top;\n",
       "    }\n",
       "\n",
       "    .dataframe thead th {\n",
       "        text-align: right;\n",
       "    }\n",
       "</style>\n",
       "<table border=\"1\" class=\"dataframe\">\n",
       "  <thead>\n",
       "    <tr style=\"text-align: right;\">\n",
       "      <th></th>\n",
       "      <th>village_name</th>\n",
       "      <th>taluka</th>\n",
       "    </tr>\n",
       "    <tr>\n",
       "      <th>village_population</th>\n",
       "      <th></th>\n",
       "      <th></th>\n",
       "    </tr>\n",
       "  </thead>\n",
       "  <tbody>\n",
       "    <tr>\n",
       "      <th>300</th>\n",
       "      <td>gonavadi</td>\n",
       "      <td>ambegaon</td>\n",
       "    </tr>\n",
       "    <tr>\n",
       "      <th>250</th>\n",
       "      <td>savargaon</td>\n",
       "      <td>junnar</td>\n",
       "    </tr>\n",
       "    <tr>\n",
       "      <th>1035</th>\n",
       "      <td>katraj</td>\n",
       "      <td>pimpri chinchwad</td>\n",
       "    </tr>\n",
       "  </tbody>\n",
       "</table>\n",
       "</div>"
      ],
      "text/plain": [
       "                   village_name            taluka\n",
       "village_population                               \n",
       "300                    gonavadi          ambegaon\n",
       "250                   savargaon            junnar\n",
       "1035                     katraj  pimpri chinchwad"
      ]
     },
     "execution_count": 31,
     "metadata": {},
     "output_type": "execute_result"
    }
   ],
   "source": [
    "villages.set_index('village_population')"
   ]
  },
  {
   "cell_type": "code",
   "execution_count": 33,
   "id": "9cb787f0",
   "metadata": {},
   "outputs": [],
   "source": [
    "villages.sort_values('village_population',inplace=True)"
   ]
  },
  {
   "cell_type": "code",
   "execution_count": 34,
   "id": "98ac2039",
   "metadata": {},
   "outputs": [
    {
     "data": {
      "text/html": [
       "<div>\n",
       "<style scoped>\n",
       "    .dataframe tbody tr th:only-of-type {\n",
       "        vertical-align: middle;\n",
       "    }\n",
       "\n",
       "    .dataframe tbody tr th {\n",
       "        vertical-align: top;\n",
       "    }\n",
       "\n",
       "    .dataframe thead th {\n",
       "        text-align: right;\n",
       "    }\n",
       "</style>\n",
       "<table border=\"1\" class=\"dataframe\">\n",
       "  <thead>\n",
       "    <tr style=\"text-align: right;\">\n",
       "      <th></th>\n",
       "      <th>village_name</th>\n",
       "      <th>village_population</th>\n",
       "      <th>taluka</th>\n",
       "    </tr>\n",
       "  </thead>\n",
       "  <tbody>\n",
       "    <tr>\n",
       "      <th>1</th>\n",
       "      <td>savargaon</td>\n",
       "      <td>250</td>\n",
       "      <td>junnar</td>\n",
       "    </tr>\n",
       "    <tr>\n",
       "      <th>0</th>\n",
       "      <td>gonavadi</td>\n",
       "      <td>300</td>\n",
       "      <td>ambegaon</td>\n",
       "    </tr>\n",
       "    <tr>\n",
       "      <th>2</th>\n",
       "      <td>katraj</td>\n",
       "      <td>1035</td>\n",
       "      <td>pimpri chinchwad</td>\n",
       "    </tr>\n",
       "  </tbody>\n",
       "</table>\n",
       "</div>"
      ],
      "text/plain": [
       "  village_name  village_population            taluka\n",
       "1    savargaon                 250            junnar\n",
       "0     gonavadi                 300          ambegaon\n",
       "2       katraj                1035  pimpri chinchwad"
      ]
     },
     "execution_count": 34,
     "metadata": {},
     "output_type": "execute_result"
    }
   ],
   "source": [
    "villages"
   ]
  },
  {
   "cell_type": "code",
   "execution_count": 39,
   "id": "c93bd6f7",
   "metadata": {},
   "outputs": [
    {
     "data": {
      "text/plain": [
       "<Axes: >"
      ]
     },
     "execution_count": 39,
     "metadata": {},
     "output_type": "execute_result"
    },
    {
     "data": {
      "image/png": "[encoded data removed]",
      "text/plain": [
       "<Figure size 640x480 with 1 Axes>"
      ]
     },
     "metadata": {},
     "output_type": "display_data"
    }
   ],
   "source": [
    "# as you can see indexes are messed up due to sort values \n",
    "villages['village_population'].plot()"
   ]
  },
  {
   "cell_type": "code",
   "execution_count": 40,
   "id": "3d3db9bb",
   "metadata": {},
   "outputs": [],
   "source": [
    "# so we get messed up result plot also due to index mismatch at x-axis"
   ]
  },
  {
   "cell_type": "code",
   "execution_count": 41,
   "id": "0eadded0",
   "metadata": {},
   "outputs": [
    {
     "data": {
      "text/html": [
       "<div>\n",
       "<style scoped>\n",
       "    .dataframe tbody tr th:only-of-type {\n",
       "        vertical-align: middle;\n",
       "    }\n",
       "\n",
       "    .dataframe tbody tr th {\n",
       "        vertical-align: top;\n",
       "    }\n",
       "\n",
       "    .dataframe thead th {\n",
       "        text-align: right;\n",
       "    }\n",
       "</style>\n",
       "<table border=\"1\" class=\"dataframe\">\n",
       "  <thead>\n",
       "    <tr style=\"text-align: right;\">\n",
       "      <th></th>\n",
       "      <th>index</th>\n",
       "      <th>village_name</th>\n",
       "      <th>village_population</th>\n",
       "      <th>taluka</th>\n",
       "    </tr>\n",
       "  </thead>\n",
       "  <tbody>\n",
       "    <tr>\n",
       "      <th>0</th>\n",
       "      <td>1</td>\n",
       "      <td>savargaon</td>\n",
       "      <td>250</td>\n",
       "      <td>junnar</td>\n",
       "    </tr>\n",
       "    <tr>\n",
       "      <th>1</th>\n",
       "      <td>0</td>\n",
       "      <td>gonavadi</td>\n",
       "      <td>300</td>\n",
       "      <td>ambegaon</td>\n",
       "    </tr>\n",
       "    <tr>\n",
       "      <th>2</th>\n",
       "      <td>2</td>\n",
       "      <td>katraj</td>\n",
       "      <td>1035</td>\n",
       "      <td>pimpri chinchwad</td>\n",
       "    </tr>\n",
       "  </tbody>\n",
       "</table>\n",
       "</div>"
      ],
      "text/plain": [
       "   index village_name  village_population            taluka\n",
       "0      1    savargaon                 250            junnar\n",
       "1      0     gonavadi                 300          ambegaon\n",
       "2      2       katraj                1035  pimpri chinchwad"
      ]
     },
     "execution_count": 41,
     "metadata": {},
     "output_type": "execute_result"
    }
   ],
   "source": [
    "villages.reset_index(inplace=True)\n",
    "villages"
   ]
  },
  {
   "cell_type": "code",
   "execution_count": 43,
   "id": "672e6f6b",
   "metadata": {},
   "outputs": [
    {
     "data": {
      "text/plain": [
       "<Axes: >"
      ]
     },
     "execution_count": 43,
     "metadata": {},
     "output_type": "execute_result"
    },
    {
     "data": {
      "image/png": "[encoded data removed]",
      "text/plain": [
       "<Figure size 640x480 with 1 Axes>"
      ]
     },
     "metadata": {},
     "output_type": "display_data"
    }
   ],
   "source": [
    "villages['village_population'].plot()"
   ]
  },
  {
   "cell_type": "code",
   "execution_count": 44,
   "id": "6fa63169",
   "metadata": {},
   "outputs": [],
   "source": [
    "# now after reset index our graph is normal for series village popluation"
   ]
  },
  {
   "cell_type": "code",
   "execution_count": 54,
   "id": "14b3ea44",
   "metadata": {},
   "outputs": [],
   "source": [
    "# now drop mismatch index series from villages dataframe\n",
    "villages.drop(columns=['index'],inplace=True)"
   ]
  },
  {
   "cell_type": "code",
   "execution_count": 61,
   "id": "7fe8448a",
   "metadata": {},
   "outputs": [
    {
     "data": {
      "text/html": [
       "<div>\n",
       "<style scoped>\n",
       "    .dataframe tbody tr th:only-of-type {\n",
       "        vertical-align: middle;\n",
       "    }\n",
       "\n",
       "    .dataframe tbody tr th {\n",
       "        vertical-align: top;\n",
       "    }\n",
       "\n",
       "    .dataframe thead th {\n",
       "        text-align: right;\n",
       "    }\n",
       "</style>\n",
       "<table border=\"1\" class=\"dataframe\">\n",
       "  <thead>\n",
       "    <tr style=\"text-align: right;\">\n",
       "      <th></th>\n",
       "      <th>village_name</th>\n",
       "      <th>village_population</th>\n",
       "      <th>taluka</th>\n",
       "    </tr>\n",
       "  </thead>\n",
       "  <tbody>\n",
       "    <tr>\n",
       "      <th>0</th>\n",
       "      <td>savargaon</td>\n",
       "      <td>250</td>\n",
       "      <td>junnar</td>\n",
       "    </tr>\n",
       "    <tr>\n",
       "      <th>1</th>\n",
       "      <td>gonavadi</td>\n",
       "      <td>300</td>\n",
       "      <td>ambegaon</td>\n",
       "    </tr>\n",
       "    <tr>\n",
       "      <th>2</th>\n",
       "      <td>katraj</td>\n",
       "      <td>1035</td>\n",
       "      <td>pimpri chinchwad</td>\n",
       "    </tr>\n",
       "  </tbody>\n",
       "</table>\n",
       "</div>"
      ],
      "text/plain": [
       "  village_name  village_population            taluka\n",
       "0    savargaon                 250            junnar\n",
       "1     gonavadi                 300          ambegaon\n",
       "2       katraj                1035  pimpri chinchwad"
      ]
     },
     "execution_count": 61,
     "metadata": {},
     "output_type": "execute_result"
    }
   ],
   "source": [
    "villages"
   ]
  },
  {
   "cell_type": "markdown",
   "id": "5d904832",
   "metadata": {},
   "source": [
    "## 3. Iterating Preproccess (efficiently)"
   ]
  },
  {
   "cell_type": "code",
   "execution_count": 82,
   "id": "c97a6bf8",
   "metadata": {},
   "outputs": [],
   "source": [
    "villages=villages.assign(sarpanch=['Male','Female','Male'])"
   ]
  },
  {
   "cell_type": "code",
   "execution_count": 85,
   "id": "4fb4c516",
   "metadata": {},
   "outputs": [
    {
     "data": {
      "text/html": [
       "<div>\n",
       "<style scoped>\n",
       "    .dataframe tbody tr th:only-of-type {\n",
       "        vertical-align: middle;\n",
       "    }\n",
       "\n",
       "    .dataframe tbody tr th {\n",
       "        vertical-align: top;\n",
       "    }\n",
       "\n",
       "    .dataframe thead th {\n",
       "        text-align: right;\n",
       "    }\n",
       "</style>\n",
       "<table border=\"1\" class=\"dataframe\">\n",
       "  <thead>\n",
       "    <tr style=\"text-align: right;\">\n",
       "      <th></th>\n",
       "      <th>village_name</th>\n",
       "      <th>village_population</th>\n",
       "      <th>taluka</th>\n",
       "      <th>sarpanch</th>\n",
       "    </tr>\n",
       "  </thead>\n",
       "  <tbody>\n",
       "    <tr>\n",
       "      <th>0</th>\n",
       "      <td>savargaon</td>\n",
       "      <td>250</td>\n",
       "      <td>junnar</td>\n",
       "      <td>Male</td>\n",
       "    </tr>\n",
       "    <tr>\n",
       "      <th>1</th>\n",
       "      <td>gonavadi</td>\n",
       "      <td>300</td>\n",
       "      <td>ambegaon</td>\n",
       "      <td>Female</td>\n",
       "    </tr>\n",
       "    <tr>\n",
       "      <th>2</th>\n",
       "      <td>katraj</td>\n",
       "      <td>1035</td>\n",
       "      <td>pimpri chinchwad</td>\n",
       "      <td>Male</td>\n",
       "    </tr>\n",
       "  </tbody>\n",
       "</table>\n",
       "</div>"
      ],
      "text/plain": [
       "  village_name  village_population            taluka sarpanch\n",
       "0    savargaon                 250            junnar     Male\n",
       "1     gonavadi                 300          ambegaon   Female\n",
       "2       katraj                1035  pimpri chinchwad     Male"
      ]
     },
     "execution_count": 85,
     "metadata": {},
     "output_type": "execute_result"
    }
   ],
   "source": [
    "# now we've added sarpanch column \n",
    "villages"
   ]
  },
  {
   "cell_type": "code",
   "execution_count": 99,
   "id": "60385678",
   "metadata": {},
   "outputs": [
    {
     "data": {
      "text/html": [
       "<div>\n",
       "<style scoped>\n",
       "    .dataframe tbody tr th:only-of-type {\n",
       "        vertical-align: middle;\n",
       "    }\n",
       "\n",
       "    .dataframe tbody tr th {\n",
       "        vertical-align: top;\n",
       "    }\n",
       "\n",
       "    .dataframe thead th {\n",
       "        text-align: right;\n",
       "    }\n",
       "</style>\n",
       "<table border=\"1\" class=\"dataframe\">\n",
       "  <thead>\n",
       "    <tr style=\"text-align: right;\">\n",
       "      <th></th>\n",
       "      <th>village_name</th>\n",
       "      <th>village_population</th>\n",
       "      <th>taluka</th>\n",
       "      <th>sarpanch</th>\n",
       "      <th>village_population_5yrs</th>\n",
       "      <th>sarpanch in binary</th>\n",
       "    </tr>\n",
       "  </thead>\n",
       "  <tbody>\n",
       "    <tr>\n",
       "      <th>0</th>\n",
       "      <td>savargaon</td>\n",
       "      <td>250</td>\n",
       "      <td>junnar</td>\n",
       "      <td>Male</td>\n",
       "      <td>625.0</td>\n",
       "      <td>1</td>\n",
       "    </tr>\n",
       "    <tr>\n",
       "      <th>1</th>\n",
       "      <td>gonavadi</td>\n",
       "      <td>300</td>\n",
       "      <td>ambegaon</td>\n",
       "      <td>Female</td>\n",
       "      <td>750.0</td>\n",
       "      <td>0</td>\n",
       "    </tr>\n",
       "    <tr>\n",
       "      <th>2</th>\n",
       "      <td>katraj</td>\n",
       "      <td>1035</td>\n",
       "      <td>pimpri chinchwad</td>\n",
       "      <td>Male</td>\n",
       "      <td>2587.5</td>\n",
       "      <td>1</td>\n",
       "    </tr>\n",
       "  </tbody>\n",
       "</table>\n",
       "</div>"
      ],
      "text/plain": [
       "  village_name  village_population            taluka sarpanch  \\\n",
       "0    savargaon                 250            junnar     Male   \n",
       "1     gonavadi                 300          ambegaon   Female   \n",
       "2       katraj                1035  pimpri chinchwad     Male   \n",
       "\n",
       "   village_population_5yrs  sarpanch in binary  \n",
       "0                    625.0                   1  \n",
       "1                    750.0                   0  \n",
       "2                   2587.5                   1  "
      ]
     },
     "execution_count": 99,
     "metadata": {},
     "output_type": "execute_result"
    }
   ],
   "source": [
    "# lets iterate population for next 2.5 years \n",
    "villages['village_population_5yrs'] = villages['village_population']*2.5\n",
    "villages"
   ]
  },
  {
   "cell_type": "code",
   "execution_count": 96,
   "id": "9f8155af",
   "metadata": {},
   "outputs": [],
   "source": [
    "villages['sarpanch in binary'] = villages['sarpanch'].apply(lambda x:1 if x==\"Male\" else(0 if x==\"Female\" else None))"
   ]
  },
  {
   "cell_type": "code",
   "execution_count": 98,
   "id": "b6edb2e3",
   "metadata": {},
   "outputs": [
    {
     "data": {
      "text/html": [
       "<div>\n",
       "<style scoped>\n",
       "    .dataframe tbody tr th:only-of-type {\n",
       "        vertical-align: middle;\n",
       "    }\n",
       "\n",
       "    .dataframe tbody tr th {\n",
       "        vertical-align: top;\n",
       "    }\n",
       "\n",
       "    .dataframe thead th {\n",
       "        text-align: right;\n",
       "    }\n",
       "</style>\n",
       "<table border=\"1\" class=\"dataframe\">\n",
       "  <thead>\n",
       "    <tr style=\"text-align: right;\">\n",
       "      <th></th>\n",
       "      <th>village_name</th>\n",
       "      <th>village_population</th>\n",
       "      <th>taluka</th>\n",
       "      <th>sarpanch</th>\n",
       "      <th>village_population_5yrs</th>\n",
       "      <th>sarpanch in binary</th>\n",
       "    </tr>\n",
       "  </thead>\n",
       "  <tbody>\n",
       "    <tr>\n",
       "      <th>0</th>\n",
       "      <td>savargaon</td>\n",
       "      <td>250</td>\n",
       "      <td>junnar</td>\n",
       "      <td>Male</td>\n",
       "      <td>625.0</td>\n",
       "      <td>1</td>\n",
       "    </tr>\n",
       "    <tr>\n",
       "      <th>1</th>\n",
       "      <td>gonavadi</td>\n",
       "      <td>300</td>\n",
       "      <td>ambegaon</td>\n",
       "      <td>Female</td>\n",
       "      <td>750.0</td>\n",
       "      <td>0</td>\n",
       "    </tr>\n",
       "    <tr>\n",
       "      <th>2</th>\n",
       "      <td>katraj</td>\n",
       "      <td>1035</td>\n",
       "      <td>pimpri chinchwad</td>\n",
       "      <td>Male</td>\n",
       "      <td>2587.5</td>\n",
       "      <td>1</td>\n",
       "    </tr>\n",
       "  </tbody>\n",
       "</table>\n",
       "</div>"
      ],
      "text/plain": [
       "  village_name  village_population            taluka sarpanch  \\\n",
       "0    savargaon                 250            junnar     Male   \n",
       "1     gonavadi                 300          ambegaon   Female   \n",
       "2       katraj                1035  pimpri chinchwad     Male   \n",
       "\n",
       "   village_population_5yrs  sarpanch in binary  \n",
       "0                    625.0                   1  \n",
       "1                    750.0                   0  \n",
       "2                   2587.5                   1  "
      ]
     },
     "execution_count": 98,
     "metadata": {},
     "output_type": "execute_result"
    }
   ],
   "source": [
    "# now we've binary for male sarpanch as 1 and female as 0\n",
    "villages"
   ]
  },
  {
   "cell_type": "code",
   "execution_count": 101,
   "id": "057978e8",
   "metadata": {},
   "outputs": [],
   "source": [
    "#villages.fillna('this used to be empty')"
   ]
  },
  {
   "cell_type": "markdown",
   "id": "3dab821f",
   "metadata": {},
   "source": [
    "## 4.  efficient filtering"
   ]
  },
  {
   "cell_type": "code",
   "execution_count": 103,
   "id": "fe718058",
   "metadata": {},
   "outputs": [],
   "source": [
    "# basically used for subset of dataframe\n",
    "# troubleshooting while things are not going the way you want"
   ]
  },
  {
   "cell_type": "code",
   "execution_count": 104,
   "id": "138bd0da",
   "metadata": {},
   "outputs": [
    {
     "data": {
      "text/plain": [
       "0    False\n",
       "1     True\n",
       "2    False\n",
       "Name: sarpanch, dtype: bool"
      ]
     },
     "execution_count": 104,
     "metadata": {},
     "output_type": "execute_result"
    }
   ],
   "source": [
    "# we need 2 things one is shell and another is condition \n",
    "villages['sarpanch'] == 'Female'"
   ]
  },
  {
   "cell_type": "code",
   "execution_count": 106,
   "id": "463f1839",
   "metadata": {},
   "outputs": [
    {
     "data": {
      "text/html": [
       "<div>\n",
       "<style scoped>\n",
       "    .dataframe tbody tr th:only-of-type {\n",
       "        vertical-align: middle;\n",
       "    }\n",
       "\n",
       "    .dataframe tbody tr th {\n",
       "        vertical-align: top;\n",
       "    }\n",
       "\n",
       "    .dataframe thead th {\n",
       "        text-align: right;\n",
       "    }\n",
       "</style>\n",
       "<table border=\"1\" class=\"dataframe\">\n",
       "  <thead>\n",
       "    <tr style=\"text-align: right;\">\n",
       "      <th></th>\n",
       "      <th>village_name</th>\n",
       "      <th>village_population</th>\n",
       "      <th>taluka</th>\n",
       "      <th>sarpanch</th>\n",
       "      <th>village_population_5yrs</th>\n",
       "      <th>sarpanch in binary</th>\n",
       "    </tr>\n",
       "  </thead>\n",
       "  <tbody>\n",
       "    <tr>\n",
       "      <th>0</th>\n",
       "      <td>savargaon</td>\n",
       "      <td>250</td>\n",
       "      <td>junnar</td>\n",
       "      <td>Male</td>\n",
       "      <td>625.0</td>\n",
       "      <td>1</td>\n",
       "    </tr>\n",
       "    <tr>\n",
       "      <th>2</th>\n",
       "      <td>katraj</td>\n",
       "      <td>1035</td>\n",
       "      <td>pimpri chinchwad</td>\n",
       "      <td>Male</td>\n",
       "      <td>2587.5</td>\n",
       "      <td>1</td>\n",
       "    </tr>\n",
       "  </tbody>\n",
       "</table>\n",
       "</div>"
      ],
      "text/plain": [
       "  village_name  village_population            taluka sarpanch  \\\n",
       "0    savargaon                 250            junnar     Male   \n",
       "2       katraj                1035  pimpri chinchwad     Male   \n",
       "\n",
       "   village_population_5yrs  sarpanch in binary  \n",
       "0                    625.0                   1  \n",
       "2                   2587.5                   1  "
      ]
     },
     "execution_count": 106,
     "metadata": {},
     "output_type": "execute_result"
    }
   ],
   "source": [
    "villages[villages['sarpanch']=='Male']"
   ]
  },
  {
   "cell_type": "code",
   "execution_count": 107,
   "id": "d2b27f91",
   "metadata": {},
   "outputs": [
    {
     "data": {
      "text/html": [
       "<div>\n",
       "<style scoped>\n",
       "    .dataframe tbody tr th:only-of-type {\n",
       "        vertical-align: middle;\n",
       "    }\n",
       "\n",
       "    .dataframe tbody tr th {\n",
       "        vertical-align: top;\n",
       "    }\n",
       "\n",
       "    .dataframe thead th {\n",
       "        text-align: right;\n",
       "    }\n",
       "</style>\n",
       "<table border=\"1\" class=\"dataframe\">\n",
       "  <thead>\n",
       "    <tr style=\"text-align: right;\">\n",
       "      <th></th>\n",
       "      <th>village_name</th>\n",
       "      <th>village_population</th>\n",
       "      <th>taluka</th>\n",
       "      <th>sarpanch</th>\n",
       "      <th>village_population_5yrs</th>\n",
       "      <th>sarpanch in binary</th>\n",
       "    </tr>\n",
       "  </thead>\n",
       "  <tbody>\n",
       "  </tbody>\n",
       "</table>\n",
       "</div>"
      ],
      "text/plain": [
       "Empty DataFrame\n",
       "Columns: [village_name, village_population, taluka, sarpanch, village_population_5yrs, sarpanch in binary]\n",
       "Index: []"
      ]
     },
     "execution_count": 107,
     "metadata": {},
     "output_type": "execute_result"
    }
   ],
   "source": [
    "# none values\n",
    "villages[villages['village_population'].isna()]"
   ]
  },
  {
   "cell_type": "code",
   "execution_count": 108,
   "id": "4c5a6c34",
   "metadata": {},
   "outputs": [
    {
     "data": {
      "text/html": [
       "<div>\n",
       "<style scoped>\n",
       "    .dataframe tbody tr th:only-of-type {\n",
       "        vertical-align: middle;\n",
       "    }\n",
       "\n",
       "    .dataframe tbody tr th {\n",
       "        vertical-align: top;\n",
       "    }\n",
       "\n",
       "    .dataframe thead th {\n",
       "        text-align: right;\n",
       "    }\n",
       "</style>\n",
       "<table border=\"1\" class=\"dataframe\">\n",
       "  <thead>\n",
       "    <tr style=\"text-align: right;\">\n",
       "      <th></th>\n",
       "      <th>village_name</th>\n",
       "      <th>village_population</th>\n",
       "      <th>taluka</th>\n",
       "      <th>sarpanch</th>\n",
       "      <th>village_population_5yrs</th>\n",
       "      <th>sarpanch in binary</th>\n",
       "    </tr>\n",
       "  </thead>\n",
       "  <tbody>\n",
       "    <tr>\n",
       "      <th>0</th>\n",
       "      <td>savargaon</td>\n",
       "      <td>250</td>\n",
       "      <td>junnar</td>\n",
       "      <td>Male</td>\n",
       "      <td>625.0</td>\n",
       "      <td>1</td>\n",
       "    </tr>\n",
       "    <tr>\n",
       "      <th>1</th>\n",
       "      <td>gonavadi</td>\n",
       "      <td>300</td>\n",
       "      <td>ambegaon</td>\n",
       "      <td>Female</td>\n",
       "      <td>750.0</td>\n",
       "      <td>0</td>\n",
       "    </tr>\n",
       "    <tr>\n",
       "      <th>2</th>\n",
       "      <td>katraj</td>\n",
       "      <td>1035</td>\n",
       "      <td>pimpri chinchwad</td>\n",
       "      <td>Male</td>\n",
       "      <td>2587.5</td>\n",
       "      <td>1</td>\n",
       "    </tr>\n",
       "  </tbody>\n",
       "</table>\n",
       "</div>"
      ],
      "text/plain": [
       "  village_name  village_population            taluka sarpanch  \\\n",
       "0    savargaon                 250            junnar     Male   \n",
       "1     gonavadi                 300          ambegaon   Female   \n",
       "2       katraj                1035  pimpri chinchwad     Male   \n",
       "\n",
       "   village_population_5yrs  sarpanch in binary  \n",
       "0                    625.0                   1  \n",
       "1                    750.0                   0  \n",
       "2                   2587.5                   1  "
      ]
     },
     "execution_count": 108,
     "metadata": {},
     "output_type": "execute_result"
    }
   ],
   "source": [
    "# negation non values\n",
    "villages[-villages['village_population'].isna()]"
   ]
  },
  {
   "cell_type": "code",
   "execution_count": 112,
   "id": "31fb22f0",
   "metadata": {},
   "outputs": [
    {
     "data": {
      "text/html": [
       "<div>\n",
       "<style scoped>\n",
       "    .dataframe tbody tr th:only-of-type {\n",
       "        vertical-align: middle;\n",
       "    }\n",
       "\n",
       "    .dataframe tbody tr th {\n",
       "        vertical-align: top;\n",
       "    }\n",
       "\n",
       "    .dataframe thead th {\n",
       "        text-align: right;\n",
       "    }\n",
       "</style>\n",
       "<table border=\"1\" class=\"dataframe\">\n",
       "  <thead>\n",
       "    <tr style=\"text-align: right;\">\n",
       "      <th></th>\n",
       "      <th>village_name</th>\n",
       "      <th>village_population</th>\n",
       "      <th>taluka</th>\n",
       "      <th>sarpanch</th>\n",
       "      <th>village_population_5yrs</th>\n",
       "      <th>sarpanch in binary</th>\n",
       "    </tr>\n",
       "  </thead>\n",
       "  <tbody>\n",
       "    <tr>\n",
       "      <th>0</th>\n",
       "      <td>savargaon</td>\n",
       "      <td>250</td>\n",
       "      <td>junnar</td>\n",
       "      <td>Male</td>\n",
       "      <td>625.0</td>\n",
       "      <td>1</td>\n",
       "    </tr>\n",
       "    <tr>\n",
       "      <th>2</th>\n",
       "      <td>katraj</td>\n",
       "      <td>1035</td>\n",
       "      <td>pimpri chinchwad</td>\n",
       "      <td>Male</td>\n",
       "      <td>2587.5</td>\n",
       "      <td>1</td>\n",
       "    </tr>\n",
       "  </tbody>\n",
       "</table>\n",
       "</div>"
      ],
      "text/plain": [
       "  village_name  village_population            taluka sarpanch  \\\n",
       "0    savargaon                 250            junnar     Male   \n",
       "2       katraj                1035  pimpri chinchwad     Male   \n",
       "\n",
       "   village_population_5yrs  sarpanch in binary  \n",
       "0                    625.0                   1  \n",
       "2                   2587.5                   1  "
      ]
     },
     "execution_count": 112,
     "metadata": {},
     "output_type": "execute_result"
    }
   ],
   "source": [
    "# certain range values\n",
    "villages[villages['village_population'].isin([250,1035])]"
   ]
  },
  {
   "cell_type": "code",
   "execution_count": 117,
   "id": "018b58c2",
   "metadata": {},
   "outputs": [
    {
     "data": {
      "text/html": [
       "<div>\n",
       "<style scoped>\n",
       "    .dataframe tbody tr th:only-of-type {\n",
       "        vertical-align: middle;\n",
       "    }\n",
       "\n",
       "    .dataframe tbody tr th {\n",
       "        vertical-align: top;\n",
       "    }\n",
       "\n",
       "    .dataframe thead th {\n",
       "        text-align: right;\n",
       "    }\n",
       "</style>\n",
       "<table border=\"1\" class=\"dataframe\">\n",
       "  <thead>\n",
       "    <tr style=\"text-align: right;\">\n",
       "      <th></th>\n",
       "      <th>village_name</th>\n",
       "      <th>village_population</th>\n",
       "      <th>taluka</th>\n",
       "      <th>sarpanch</th>\n",
       "      <th>village_population_5yrs</th>\n",
       "      <th>sarpanch in binary</th>\n",
       "    </tr>\n",
       "  </thead>\n",
       "  <tbody>\n",
       "    <tr>\n",
       "      <th>0</th>\n",
       "      <td>savargaon</td>\n",
       "      <td>250</td>\n",
       "      <td>junnar</td>\n",
       "      <td>Male</td>\n",
       "      <td>625.0</td>\n",
       "      <td>1</td>\n",
       "    </tr>\n",
       "  </tbody>\n",
       "</table>\n",
       "</div>"
      ],
      "text/plain": [
       "  village_name  village_population  taluka sarpanch  village_population_5yrs  \\\n",
       "0    savargaon                 250  junnar     Male                    625.0   \n",
       "\n",
       "   sarpanch in binary  \n",
       "0                   1  "
      ]
     },
     "execution_count": 117,
     "metadata": {},
     "output_type": "execute_result"
    }
   ],
   "source": [
    "# combine 2 series either using AND or using OR \n",
    "# first we see AND\n",
    "villages[(villages[\"taluka\"]==\"junnar\") & (villages[\"village_population_5yrs\"].isin([625.0,750.0]))]"
   ]
  },
  {
   "cell_type": "code",
   "execution_count": 118,
   "id": "14c11b18",
   "metadata": {},
   "outputs": [
    {
     "data": {
      "text/html": [
       "<div>\n",
       "<style scoped>\n",
       "    .dataframe tbody tr th:only-of-type {\n",
       "        vertical-align: middle;\n",
       "    }\n",
       "\n",
       "    .dataframe tbody tr th {\n",
       "        vertical-align: top;\n",
       "    }\n",
       "\n",
       "    .dataframe thead th {\n",
       "        text-align: right;\n",
       "    }\n",
       "</style>\n",
       "<table border=\"1\" class=\"dataframe\">\n",
       "  <thead>\n",
       "    <tr style=\"text-align: right;\">\n",
       "      <th></th>\n",
       "      <th>village_name</th>\n",
       "      <th>village_population</th>\n",
       "      <th>taluka</th>\n",
       "      <th>sarpanch</th>\n",
       "      <th>village_population_5yrs</th>\n",
       "      <th>sarpanch in binary</th>\n",
       "    </tr>\n",
       "  </thead>\n",
       "  <tbody>\n",
       "    <tr>\n",
       "      <th>0</th>\n",
       "      <td>savargaon</td>\n",
       "      <td>250</td>\n",
       "      <td>junnar</td>\n",
       "      <td>Male</td>\n",
       "      <td>625.0</td>\n",
       "      <td>1</td>\n",
       "    </tr>\n",
       "    <tr>\n",
       "      <th>1</th>\n",
       "      <td>gonavadi</td>\n",
       "      <td>300</td>\n",
       "      <td>ambegaon</td>\n",
       "      <td>Female</td>\n",
       "      <td>750.0</td>\n",
       "      <td>0</td>\n",
       "    </tr>\n",
       "  </tbody>\n",
       "</table>\n",
       "</div>"
      ],
      "text/plain": [
       "  village_name  village_population    taluka sarpanch  \\\n",
       "0    savargaon                 250    junnar     Male   \n",
       "1     gonavadi                 300  ambegaon   Female   \n",
       "\n",
       "   village_population_5yrs  sarpanch in binary  \n",
       "0                    625.0                   1  \n",
       "1                    750.0                   0  "
      ]
     },
     "execution_count": 118,
     "metadata": {},
     "output_type": "execute_result"
    }
   ],
   "source": [
    "#now using OR \n",
    "villages[(villages[\"taluka\"]==\"junnar\") | (villages[\"village_population_5yrs\"].isin([625.0,750.0]))]"
   ]
  }
 ],
 "metadata": {
  "kernelspec": {
   "display_name": "Python 3 (ipykernel)",
   "language": "python",
   "name": "python3"
  },
  "language_info": {
   "codemirror_mode": {
    "name": "ipython",
    "version": 3
   },
   "file_extension": ".py",
   "mimetype": "text/x-python",
   "name": "python",
   "nbconvert_exporter": "python",
   "pygments_lexer": "ipython3",
   "version": "3.11.5"
  }
 },
 "nbformat": 4,
 "nbformat_minor": 5
}
